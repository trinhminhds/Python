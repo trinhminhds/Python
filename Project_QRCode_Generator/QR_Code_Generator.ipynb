{
  "nbformat": 4,
  "nbformat_minor": 0,
  "metadata": {
    "colab": {
      "provenance": [],
      "gpuType": "T4"
    },
    "kernelspec": {
      "name": "python3",
      "display_name": "Python 3"
    },
    "language_info": {
      "name": "python"
    },
    "accelerator": "GPU",
    "widgets": {
      "application/vnd.jupyter.widget-state+json": {
        "bbae3b73164d4a49b69f54ba5c2c3e56": {
          "model_module": "@jupyter-widgets/controls",
          "model_name": "HBoxModel",
          "model_module_version": "1.5.0",
          "state": {
            "_dom_classes": [],
            "_model_module": "@jupyter-widgets/controls",
            "_model_module_version": "1.5.0",
            "_model_name": "HBoxModel",
            "_view_count": null,
            "_view_module": "@jupyter-widgets/controls",
            "_view_module_version": "1.5.0",
            "_view_name": "HBoxView",
            "box_style": "",
            "children": [
              "IPY_MODEL_2c0387feb7fe475c9209d52c57744447",
              "IPY_MODEL_1aacd603cc184ce9ac13b43d8e501b89",
              "IPY_MODEL_1da4750f957b457eb162f088c1495cff"
            ],
            "layout": "IPY_MODEL_556d253d769041a089e5c6700f6b14bf"
          }
        },
        "2c0387feb7fe475c9209d52c57744447": {
          "model_module": "@jupyter-widgets/controls",
          "model_name": "HTMLModel",
          "model_module_version": "1.5.0",
          "state": {
            "_dom_classes": [],
            "_model_module": "@jupyter-widgets/controls",
            "_model_module_version": "1.5.0",
            "_model_name": "HTMLModel",
            "_view_count": null,
            "_view_module": "@jupyter-widgets/controls",
            "_view_module_version": "1.5.0",
            "_view_name": "HTMLView",
            "description": "",
            "description_tooltip": null,
            "layout": "IPY_MODEL_47ce6db912494294a44ad7f8b388a079",
            "placeholder": "​",
            "style": "IPY_MODEL_f3284e6ac09d4904b2dc278bfe0d2425",
            "value": "Loading pipeline components...: 100%"
          }
        },
        "1aacd603cc184ce9ac13b43d8e501b89": {
          "model_module": "@jupyter-widgets/controls",
          "model_name": "FloatProgressModel",
          "model_module_version": "1.5.0",
          "state": {
            "_dom_classes": [],
            "_model_module": "@jupyter-widgets/controls",
            "_model_module_version": "1.5.0",
            "_model_name": "FloatProgressModel",
            "_view_count": null,
            "_view_module": "@jupyter-widgets/controls",
            "_view_module_version": "1.5.0",
            "_view_name": "ProgressView",
            "bar_style": "success",
            "description": "",
            "description_tooltip": null,
            "layout": "IPY_MODEL_a02f530d682540ee85706250b1e2597d",
            "max": 6,
            "min": 0,
            "orientation": "horizontal",
            "style": "IPY_MODEL_12cd567e39b14bf4b4eb81088363692f",
            "value": 6
          }
        },
        "1da4750f957b457eb162f088c1495cff": {
          "model_module": "@jupyter-widgets/controls",
          "model_name": "HTMLModel",
          "model_module_version": "1.5.0",
          "state": {
            "_dom_classes": [],
            "_model_module": "@jupyter-widgets/controls",
            "_model_module_version": "1.5.0",
            "_model_name": "HTMLModel",
            "_view_count": null,
            "_view_module": "@jupyter-widgets/controls",
            "_view_module_version": "1.5.0",
            "_view_name": "HTMLView",
            "description": "",
            "description_tooltip": null,
            "layout": "IPY_MODEL_5ffd35829d344f29952eef24a2ef65f8",
            "placeholder": "​",
            "style": "IPY_MODEL_276bd6bbfbee48ff8ef8c6307fbe9cea",
            "value": " 6/6 [00:16&lt;00:00,  2.30s/it]"
          }
        },
        "556d253d769041a089e5c6700f6b14bf": {
          "model_module": "@jupyter-widgets/base",
          "model_name": "LayoutModel",
          "model_module_version": "1.2.0",
          "state": {
            "_model_module": "@jupyter-widgets/base",
            "_model_module_version": "1.2.0",
            "_model_name": "LayoutModel",
            "_view_count": null,
            "_view_module": "@jupyter-widgets/base",
            "_view_module_version": "1.2.0",
            "_view_name": "LayoutView",
            "align_content": null,
            "align_items": null,
            "align_self": null,
            "border": null,
            "bottom": null,
            "display": null,
            "flex": null,
            "flex_flow": null,
            "grid_area": null,
            "grid_auto_columns": null,
            "grid_auto_flow": null,
            "grid_auto_rows": null,
            "grid_column": null,
            "grid_gap": null,
            "grid_row": null,
            "grid_template_areas": null,
            "grid_template_columns": null,
            "grid_template_rows": null,
            "height": null,
            "justify_content": null,
            "justify_items": null,
            "left": null,
            "margin": null,
            "max_height": null,
            "max_width": null,
            "min_height": null,
            "min_width": null,
            "object_fit": null,
            "object_position": null,
            "order": null,
            "overflow": null,
            "overflow_x": null,
            "overflow_y": null,
            "padding": null,
            "right": null,
            "top": null,
            "visibility": null,
            "width": null
          }
        },
        "47ce6db912494294a44ad7f8b388a079": {
          "model_module": "@jupyter-widgets/base",
          "model_name": "LayoutModel",
          "model_module_version": "1.2.0",
          "state": {
            "_model_module": "@jupyter-widgets/base",
            "_model_module_version": "1.2.0",
            "_model_name": "LayoutModel",
            "_view_count": null,
            "_view_module": "@jupyter-widgets/base",
            "_view_module_version": "1.2.0",
            "_view_name": "LayoutView",
            "align_content": null,
            "align_items": null,
            "align_self": null,
            "border": null,
            "bottom": null,
            "display": null,
            "flex": null,
            "flex_flow": null,
            "grid_area": null,
            "grid_auto_columns": null,
            "grid_auto_flow": null,
            "grid_auto_rows": null,
            "grid_column": null,
            "grid_gap": null,
            "grid_row": null,
            "grid_template_areas": null,
            "grid_template_columns": null,
            "grid_template_rows": null,
            "height": null,
            "justify_content": null,
            "justify_items": null,
            "left": null,
            "margin": null,
            "max_height": null,
            "max_width": null,
            "min_height": null,
            "min_width": null,
            "object_fit": null,
            "object_position": null,
            "order": null,
            "overflow": null,
            "overflow_x": null,
            "overflow_y": null,
            "padding": null,
            "right": null,
            "top": null,
            "visibility": null,
            "width": null
          }
        },
        "f3284e6ac09d4904b2dc278bfe0d2425": {
          "model_module": "@jupyter-widgets/controls",
          "model_name": "DescriptionStyleModel",
          "model_module_version": "1.5.0",
          "state": {
            "_model_module": "@jupyter-widgets/controls",
            "_model_module_version": "1.5.0",
            "_model_name": "DescriptionStyleModel",
            "_view_count": null,
            "_view_module": "@jupyter-widgets/base",
            "_view_module_version": "1.2.0",
            "_view_name": "StyleView",
            "description_width": ""
          }
        },
        "a02f530d682540ee85706250b1e2597d": {
          "model_module": "@jupyter-widgets/base",
          "model_name": "LayoutModel",
          "model_module_version": "1.2.0",
          "state": {
            "_model_module": "@jupyter-widgets/base",
            "_model_module_version": "1.2.0",
            "_model_name": "LayoutModel",
            "_view_count": null,
            "_view_module": "@jupyter-widgets/base",
            "_view_module_version": "1.2.0",
            "_view_name": "LayoutView",
            "align_content": null,
            "align_items": null,
            "align_self": null,
            "border": null,
            "bottom": null,
            "display": null,
            "flex": null,
            "flex_flow": null,
            "grid_area": null,
            "grid_auto_columns": null,
            "grid_auto_flow": null,
            "grid_auto_rows": null,
            "grid_column": null,
            "grid_gap": null,
            "grid_row": null,
            "grid_template_areas": null,
            "grid_template_columns": null,
            "grid_template_rows": null,
            "height": null,
            "justify_content": null,
            "justify_items": null,
            "left": null,
            "margin": null,
            "max_height": null,
            "max_width": null,
            "min_height": null,
            "min_width": null,
            "object_fit": null,
            "object_position": null,
            "order": null,
            "overflow": null,
            "overflow_x": null,
            "overflow_y": null,
            "padding": null,
            "right": null,
            "top": null,
            "visibility": null,
            "width": null
          }
        },
        "12cd567e39b14bf4b4eb81088363692f": {
          "model_module": "@jupyter-widgets/controls",
          "model_name": "ProgressStyleModel",
          "model_module_version": "1.5.0",
          "state": {
            "_model_module": "@jupyter-widgets/controls",
            "_model_module_version": "1.5.0",
            "_model_name": "ProgressStyleModel",
            "_view_count": null,
            "_view_module": "@jupyter-widgets/base",
            "_view_module_version": "1.2.0",
            "_view_name": "StyleView",
            "bar_color": null,
            "description_width": ""
          }
        },
        "5ffd35829d344f29952eef24a2ef65f8": {
          "model_module": "@jupyter-widgets/base",
          "model_name": "LayoutModel",
          "model_module_version": "1.2.0",
          "state": {
            "_model_module": "@jupyter-widgets/base",
            "_model_module_version": "1.2.0",
            "_model_name": "LayoutModel",
            "_view_count": null,
            "_view_module": "@jupyter-widgets/base",
            "_view_module_version": "1.2.0",
            "_view_name": "LayoutView",
            "align_content": null,
            "align_items": null,
            "align_self": null,
            "border": null,
            "bottom": null,
            "display": null,
            "flex": null,
            "flex_flow": null,
            "grid_area": null,
            "grid_auto_columns": null,
            "grid_auto_flow": null,
            "grid_auto_rows": null,
            "grid_column": null,
            "grid_gap": null,
            "grid_row": null,
            "grid_template_areas": null,
            "grid_template_columns": null,
            "grid_template_rows": null,
            "height": null,
            "justify_content": null,
            "justify_items": null,
            "left": null,
            "margin": null,
            "max_height": null,
            "max_width": null,
            "min_height": null,
            "min_width": null,
            "object_fit": null,
            "object_position": null,
            "order": null,
            "overflow": null,
            "overflow_x": null,
            "overflow_y": null,
            "padding": null,
            "right": null,
            "top": null,
            "visibility": null,
            "width": null
          }
        },
        "276bd6bbfbee48ff8ef8c6307fbe9cea": {
          "model_module": "@jupyter-widgets/controls",
          "model_name": "DescriptionStyleModel",
          "model_module_version": "1.5.0",
          "state": {
            "_model_module": "@jupyter-widgets/controls",
            "_model_module_version": "1.5.0",
            "_model_name": "DescriptionStyleModel",
            "_view_count": null,
            "_view_module": "@jupyter-widgets/base",
            "_view_module_version": "1.2.0",
            "_view_name": "StyleView",
            "description_width": ""
          }
        }
      }
    }
  },
  "cells": [
    {
      "cell_type": "code",
      "execution_count": null,
      "metadata": {
        "id": "lH0mk08bWjjL"
      },
      "outputs": [],
      "source": [
        "!pip -q install diffusers transformers torch qrcode accelerate # xformers\n",
        "# !pip3 install -U xformers --index-url https://download.pytorch.org/whl/cu118 Chỉ pip dòng này khi cu 2.1"
      ]
    },
    {
      "cell_type": "markdown",
      "source": [
        "# QR Code Generator"
      ],
      "metadata": {
        "id": "cbUqHVmSXGhA"
      }
    },
    {
      "cell_type": "code",
      "source": [
        "import qrcode\n",
        "from PIL import Image"
      ],
      "metadata": {
        "id": "G64OKTgnW3D1"
      },
      "execution_count": null,
      "outputs": []
    },
    {
      "cell_type": "code",
      "source": [
        "class QrCodeGenerator():\n",
        "  def __init__(self):\n",
        "    self.qr = qrcode.QRCode(\n",
        "        version = 1,\n",
        "        error_correction=qrcode.constants.ERROR_CORRECT_H,\n",
        "        box_size = 16,\n",
        "        border=0,\n",
        "    )\n",
        "  def generator_qr_code(self, qrcode_content: str):\n",
        "    self.qr.add_data(qrcode_content)\n",
        "    self.qr.make(fit=True)\n",
        "\n",
        "    img = self.qr.make_image(fill_color=\"black\", back_color=\"white\")\n",
        "    return img.get_image()\n",
        "\n",
        "  def add_offset_background(self, img: Image, offset_min: int = 0):\n",
        "    w, h = img.size\n",
        "    w = (w + 255 + offset_min)\n",
        "    h = (h + 255 + offset_min)\n",
        "\n",
        "    if w > 1024:\n",
        "      raise ValueError(\"Qr Code is too big, please re-generate a shorter URL\")\n",
        "    bg_img = Image.new('L', (w,h), 255)\n",
        "    coords = ((w-img.size[0]) // 2 // 16*16,\n",
        "              (h-img.size[1]) // 2// 16*16)\n",
        "    bg_img.paste(img, coords)\n",
        "    return bg_img"
      ],
      "metadata": {
        "id": "1LOhXtCrXUON"
      },
      "execution_count": null,
      "outputs": []
    },
    {
      "cell_type": "code",
      "source": [
        "qrcode_gen = QrCodeGenerator()\n",
        "qrcode_img = qrcode_gen.generator_qr_code('https://github.com/trinhminhds')\n",
        "bg_qrcode_img = qrcode_gen.add_offset_background(qrcode_img)\n",
        "bg_qrcode_img.size"
      ],
      "metadata": {
        "colab": {
          "base_uri": "https://localhost:8080/"
        },
        "id": "FFnyUKAhXeBb",
        "outputId": "c3269bd6-1358-4c24-a53f-29192778b96d"
      },
      "execution_count": null,
      "outputs": [
        {
          "output_type": "execute_result",
          "data": {
            "text/plain": [
              "(783, 783)"
            ]
          },
          "metadata": {},
          "execution_count": 4
        }
      ]
    },
    {
      "cell_type": "markdown",
      "source": [
        "# QR Code Conditioned ControlNet Models for Stable Diffusion 1.5"
      ],
      "metadata": {
        "id": "E3RRm-GlXoul"
      }
    },
    {
      "cell_type": "code",
      "source": [
        "# load ControlNet Pre-train\n",
        "import torch\n",
        "from diffusers import ControlNetModel, StableDiffusionControlNetImg2ImgPipeline, DDIMScheduler\n",
        "from diffusers.utils import load_image\n",
        "from typing import Tuple"
      ],
      "metadata": {
        "id": "WvkrusEuXlya"
      },
      "execution_count": null,
      "outputs": []
    },
    {
      "cell_type": "code",
      "source": [
        "controlnet = ControlNetModel.from_pretrained(\"DionTimmer/controlnet_qrcode-control_v1p_sd15\",\n",
        "                                             torch_dtype=torch.float16)"
      ],
      "metadata": {
        "id": "n0TdzGqPX2vE"
      },
      "execution_count": null,
      "outputs": []
    },
    {
      "cell_type": "code",
      "source": [
        "cn_pipeline = StableDiffusionControlNetImg2ImgPipeline.from_pretrained(\n",
        "    \"runwayml/stable-diffusion-v1-5\",\n",
        "    controlnet=controlnet,\n",
        "    safety_checker=None,\n",
        "    torch_dtype=torch.float16\n",
        "\n",
        ")"
      ],
      "metadata": {
        "colab": {
          "base_uri": "https://localhost:8080/",
          "height": 86,
          "referenced_widgets": [
            "bbae3b73164d4a49b69f54ba5c2c3e56",
            "2c0387feb7fe475c9209d52c57744447",
            "1aacd603cc184ce9ac13b43d8e501b89",
            "1da4750f957b457eb162f088c1495cff",
            "556d253d769041a089e5c6700f6b14bf",
            "47ce6db912494294a44ad7f8b388a079",
            "f3284e6ac09d4904b2dc278bfe0d2425",
            "a02f530d682540ee85706250b1e2597d",
            "12cd567e39b14bf4b4eb81088363692f",
            "5ffd35829d344f29952eef24a2ef65f8",
            "276bd6bbfbee48ff8ef8c6307fbe9cea"
          ]
        },
        "id": "gt2erQUqYFfo",
        "outputId": "00facc02-b3cb-4b33-9a6e-d6ce143dc0ff"
      },
      "execution_count": null,
      "outputs": [
        {
          "output_type": "display_data",
          "data": {
            "text/plain": [
              "Loading pipeline components...:   0%|          | 0/6 [00:00<?, ?it/s]"
            ],
            "application/vnd.jupyter.widget-view+json": {
              "version_major": 2,
              "version_minor": 0,
              "model_id": "bbae3b73164d4a49b69f54ba5c2c3e56"
            }
          },
          "metadata": {}
        },
        {
          "output_type": "stream",
          "name": "stderr",
          "text": [
            "You have disabled the safety checker for <class 'diffusers.pipelines.controlnet.pipeline_controlnet_img2img.StableDiffusionControlNetImg2ImgPipeline'> by passing `safety_checker=None`. Ensure that you abide to the conditions of the Stable Diffusion license and do not expose unfiltered results in services or applications open to the public. Both the diffusers team and Hugging Face strongly recommend to keep the safety filter enabled in all public facing circumstances, disabling it only for use-cases that involve analyzing network behavior or auditing its results. For more information, please have a look at https://github.com/huggingface/diffusers/pull/254 .\n"
          ]
        }
      ]
    },
    {
      "cell_type": "code",
      "source": [
        "cn_pipeline.enable_xformers_memory_efficient_attention() # xformers' memory efficient attention is only available for GPU\n",
        "cn_pipeline.scheduler = DDIMScheduler.from_config(cn_pipeline.scheduler.config)\n",
        "cn_pipeline.enable_model_cpu_offload()"
      ],
      "metadata": {
        "id": "dd56hDCzYPRB"
      },
      "execution_count": null,
      "outputs": []
    },
    {
      "cell_type": "code",
      "source": [
        "IMG_WIDTH = 768\n",
        "IMG_HEIGHT = 768\n",
        "\n",
        "def resize_for_input_image(input_image: Image, resolution: Tuple[int, int] = (IMG_WIDTH,IMG_HEIGHT)):\n",
        "  input_image = input_image.convert('RGB')\n",
        "  img = input_image.resize(resolution, resample = Image.LANCZOS)\n",
        "  return img\n",
        "\n",
        "# QR CODE IMAGE\n",
        "condition_image = resize_for_input_image(bg_qrcode_img)\n",
        "# Init Image: can be any thing\n",
        "init_image = load_image(\"./Test2.jpg\")\n",
        "init_image = resize_for_input_image(init_image)\n"
      ],
      "metadata": {
        "id": "HQTY-1qzYcKQ"
      },
      "execution_count": null,
      "outputs": []
    },
    {
      "cell_type": "code",
      "source": [
        "condition_image.size,init_image.size"
      ],
      "metadata": {
        "colab": {
          "base_uri": "https://localhost:8080/"
        },
        "id": "wZKj5FxnmIZz",
        "outputId": "9e36de6c-0b94-4620-8357-4a96e27611cc"
      },
      "execution_count": null,
      "outputs": [
        {
          "output_type": "execute_result",
          "data": {
            "text/plain": [
              "((768, 768), (768, 768))"
            ]
          },
          "metadata": {},
          "execution_count": 20
        }
      ]
    },
    {
      "cell_type": "code",
      "source": [
        "generator = torch.Generator()"
      ],
      "metadata": {
        "id": "B3BngIA2pI62"
      },
      "execution_count": null,
      "outputs": []
    },
    {
      "cell_type": "code",
      "source": [
        "output = cn_pipeline(\n",
        "    prompt = \"GitHub\",\n",
        "    negative_prompt=\"ugly, disfigured, low quality, blurry, nsfw\",\n",
        "    image=init_image,\n",
        "    control_image = condition_image,\n",
        "    width = IMG_WIDTH,\n",
        "    height = IMG_HEIGHT,\n",
        "    guidance_scale=7.5,\n",
        "    controlnet_conditioning_scale=2.1,\n",
        "    generator=generator,\n",
        "    strength = 1.1,\n",
        "    num_inference_steps=20,\n",
        ")\n",
        "\n",
        "output.images[0]"
      ],
      "metadata": {
        "id": "FJrOz0YYp6o4"
      },
      "execution_count": null,
      "outputs": []
    }
  ]
}